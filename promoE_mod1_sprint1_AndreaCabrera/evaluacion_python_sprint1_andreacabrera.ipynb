{
 "cells": [
  {
   "attachments": {},
   "cell_type": "markdown",
   "metadata": {},
   "source": [
    "**Métodos de *strings***\n",
    "\n",
    "Dado el siguiente *string* \n",
    "\n",
    "```python\n",
    "\n",
    "string = \"\"\"Hoy estamos en una clase de repaso,\n",
    "el objetivo es intentar solucionar todas vuestras dudas, \n",
    "preguntad todo lo que queráis! \n",
    "\"\"\"\n",
    "```\n",
    "\n",
    "\n",
    "Contesta a las siguientes preguntas: \n",
    "\n",
    "1️⃣ Crea dos variables nuevas: \n",
    "    - Una con el *string* en mayúsculas\n",
    "    - Otra con las letras en minúsculas\n",
    "\n",
    "2️⃣ Pon todas las primeras letras del *string* en mayúscula\n",
    "\n",
    "3️⃣ Separa el *string*  por los espacios y almacena el resultado en una lista llamanda `texto_lista`\n",
    "\n",
    "4️⃣ De la lista obtenida en el ejercicio anterior, selecciona solo los 5 primero elementos y almacena los resultados en una variable que se llame `texto_lista_corta` \n",
    "\n",
    "5️⃣ De la lista obtenida en el ejercicio 5. Vuelve a convertirlo en *string* \n",
    "\n",
    "6️⃣ Con el *string* obtenido en el paso anterior: \n",
    "\n",
    "    - Esta la palabra \"el\" en el *string* \n",
    "\n",
    "    - Reemplaza \"Hoy\" por nada\n",
    "\n",
    "    - El ejercicio anterior nos ha dejado espacios al inicio del string, eliminalos\n"
   ]
  },
  {
   "cell_type": "code",
   "execution_count": 2,
   "metadata": {},
   "outputs": [
    {
     "name": "stdout",
     "output_type": "stream",
     "text": [
      "HOY ESTAMOS EN UNA CLASE DE REPASO,\n",
      "EL OBJETIVO ES INTENTAR SOLUCIONAR TODAS VUESTRAS DUDAS, \n",
      "PREGUNTAD TODO LO QUE QUERÁIS! \n",
      "\n",
      "hoy estamos en una clase de repaso,\n",
      "el objetivo es intentar solucionar todas vuestras dudas, \n",
      "preguntad todo lo que queráis! \n",
      "\n",
      "Hoy Estamos En Una Clase De Repaso,\n",
      "El Objetivo Es Intentar Solucionar Todas Vuestras Dudas, \n",
      "Preguntad Todo Lo Que Queráis! \n",
      "\n",
      "['Hoy', 'estamos', 'en', 'una', 'clase', 'de', 'repaso,\\nel', 'objetivo', 'es', 'intentar', 'solucionar', 'todas', 'vuestras', 'dudas,', '\\npreguntad', 'todo', 'lo', 'que', 'queráis!', '\\n']\n",
      "['Hoy', 'estamos', 'en', 'una', 'clase']\n",
      "<class 'list'>\n",
      "Hoy estamos en una clase\n",
      "24\n",
      "-1\n",
      " estamos en una clase\n",
      "estamos en una clase\n"
     ]
    }
   ],
   "source": [
    "# Ejercicio 1\n",
    "string = \"\"\"Hoy estamos en una clase de repaso,\n",
    "el objetivo es intentar solucionar todas vuestras dudas, \n",
    "preguntad todo lo que queráis! \n",
    "\"\"\"\n",
    "variab_1 = string.upper()\n",
    "variab_2 = string.lower()\n",
    "print(variab_1)\n",
    "print(variab_2)\n",
    "\n",
    "# Ejercicio 2\n",
    "print(string.title())\n",
    "\n",
    "# Ejercicio 3\n",
    "texto_lista = string.split(\" \")\n",
    "print(texto_lista)\n",
    "\n",
    "# Ejercicio 4\n",
    "texto_lista_corta = texto_lista[0:5]\n",
    "print(texto_lista_corta)\n",
    "\n",
    "# Ejercicio 5\n",
    "print(type(texto_lista_corta))\n",
    "string_texto_lista_corta = \" \".join(texto_lista_corta)\n",
    "print(string_texto_lista_corta)\n",
    "\n",
    "# Ejercicio 6\n",
    "longitud_string = len(string_texto_lista_corta)  # método len no solamente sirve para listas, también para strings\n",
    "print(longitud_string)\n",
    "print(string_texto_lista_corta.find(\"el\",0,longitud_string)) # el resultado es -1, por tanto no encuentra el valor. En consecuencia, no existe \"el\" en ese string\n",
    "\n",
    "\n",
    "string_sin_hoy = string_texto_lista_corta.replace(\"Hoy\",\"\")\n",
    "print(string_sin_hoy)\n",
    "\n",
    "print(string_sin_hoy.strip())                              \n",
    "                                 \n"
   ]
  },
  {
   "attachments": {},
   "cell_type": "markdown",
   "metadata": {},
   "source": [
    "**Encuentra el número que no está en la lista**\n",
    "\n",
    "Tenemos una lista desordenada con números positivos de 1 a n. Siempre faltará un sólo número de esta lista aleatoria, ¿cómo identifico cuál falta? Cread un programa para que este código devuelva los resultados deseados:\n",
    "\n",
    "```python\n",
    "lista1 = [3,7,1,2,8,4,5] # nos tiene que devolver 6\n",
    "lista2 = [4,6,1,3,5] #  nos tiene que devolver 2\n",
    "lista3 = [34,35,36,38,39,40] # nos tiene que devolver 37\n",
    "```\n",
    "\n",
    "BONUS: Introduce los resultados obtenidos en un diccionario, indicando que numero falta para cada una de las listas:\n",
    "```python\n",
    "# por ejemplo\n",
    "\n",
    "resultados = {'falta_lista_1': valor_numerico_1, 'falta_lista_2': valor_numerico_2, 'falta_lista_3': valor_numerico_3}\n",
    "```"
   ]
  },
  {
   "cell_type": "code",
   "execution_count": 3,
   "metadata": {},
   "outputs": [],
   "source": [
    "lista1 = [3,7,1,2,8,4,5]\n",
    "lista2 = [4,6,1,3,5] \n",
    "lista3 = [34,35,36,38,39,40]\n",
    "resultados = {} #lo pongo aquí para después añadir los valores encontrados en los bucles"
   ]
  },
  {
   "cell_type": "code",
   "execution_count": 4,
   "metadata": {},
   "outputs": [
    {
     "name": "stdout",
     "output_type": "stream",
     "text": [
      "1\n",
      "8\n",
      "[1, 2, 3, 4, 5, 6, 7, 8]\n",
      "True\n",
      "True\n",
      "True\n",
      "True\n",
      "True\n",
      "False\n",
      "6\n",
      "1\n",
      "6\n",
      "[1, 2, 3, 4, 5, 6]\n",
      "True\n",
      "False\n",
      "2\n",
      "34\n",
      "40\n",
      "[34, 35, 36, 37, 38, 39, 40]\n",
      "True\n",
      "True\n",
      "True\n",
      "False\n",
      "37\n",
      "{'falta_lista_1': 6, 'falta_lista_2': 2, 'falta_lista_3': 37}\n"
     ]
    }
   ],
   "source": [
    "min_value = min(lista1)\n",
    "max_value =max(lista1)\n",
    "print(min_value)\n",
    "print(max_value) #busco cuáles son el mínimo y el máximo elemento de la lista original para poder crear una nueva lista y así ir comparando todos elementos de ambas listas hasta hallar el elemento que le falta a la lista original.\n",
    "range_list = list(range(min_value, max_value +1)) # añado +1 porque el último no lo cuenta\n",
    "print(range_list)\n",
    "for i in range_list:\n",
    "    comp_list = i in lista1\n",
    "    print(comp_list) # para ver cuándo da False y compararlo con el output de range_list\n",
    "    if comp_list == False:\n",
    "        print(i)\n",
    "        resultados[\"falta_lista_1\"] = i #entre corchete la key a la que quiero acceder y le asigno el valor que necesito. Si la key no existe se crea. (primer método)\n",
    "        break\n",
    "\n",
    "min_value2 = min(lista2)\n",
    "max_value2 =max(lista2)\n",
    "print(min_value2)\n",
    "print(max_value2)\n",
    "range_list2 = list(range(min_value2, max_value2 +1))\n",
    "print(range_list2)\n",
    "for i in range_list2:\n",
    "    comp_list2 = i in lista2\n",
    "    print(comp_list2)\n",
    "    if comp_list2 == False:\n",
    "        print(i)\n",
    "        resultados.update({\"falta_lista_2\":i}) # (segundo método para añadir los elementos en el diccionario)\n",
    "        break\n",
    "\n",
    "min_value3 = min(lista3)\n",
    "max_value3 =max(lista3)\n",
    "print(min_value3)\n",
    "print(max_value3)\n",
    "range_list3 = list(range(min_value3, max_value3 +1))\n",
    "print(range_list3)\n",
    "for i in range_list3:\n",
    "    comp_list3 = i in lista3\n",
    "    print(comp_list3)\n",
    "    if comp_list3 == False:\n",
    "        print(i)\n",
    "        resultados[\"falta_lista_3\"] = i\n",
    "        break\n",
    "        \n",
    "print(resultados)   \n"
   ]
  },
  {
   "attachments": {},
   "cell_type": "markdown",
   "metadata": {},
   "source": [
    "**Mover los ceros a la izquierda**\n",
    "\n",
    "Nos dan un *string* con números aleatorios. Algunos de ellos son 0. Encuentra todos los ceros y ponlos al principio de la lista, manteniendo el orden de los demás números.\n",
    "\n",
    "Ejemplo:\n",
    "\n",
    "```python\n",
    "A = [1,10,88,0,59,63,0,20,0]\n",
    "\n",
    "# tiene que devolver\n",
    "[0, 0, 0, 1, 10, 88, 59, 63, 20]\n",
    "```"
   ]
  },
  {
   "cell_type": "code",
   "execution_count": 5,
   "metadata": {},
   "outputs": [
    {
     "name": "stdout",
     "output_type": "stream",
     "text": [
      "<class 'list'>\n",
      "1\n",
      "[1]\n",
      "10\n",
      "[1, 10]\n",
      "88\n",
      "[1, 10, 88]\n",
      "0\n",
      "[0]\n",
      "59\n",
      "[1, 10, 88, 59]\n",
      "63\n",
      "[1, 10, 88, 59, 63]\n",
      "0\n",
      "[0, 0]\n",
      "20\n",
      "[1, 10, 88, 59, 63, 20]\n",
      "0\n",
      "[0, 0, 0]\n",
      "[0, 0, 0, 1, 10, 88, 59, 63, 20]\n"
     ]
    }
   ],
   "source": [
    "A = [1,10,88,0,59,63,0,20,0]\n",
    "print(type(A))\n",
    "B = []\n",
    "C = []\n",
    "for i in A:\n",
    "    print(i)\n",
    "    if i == 0:\n",
    "        B.append(i)\n",
    "        print(B)\n",
    "    else:\n",
    "        C.append(i)\n",
    "        print(C)\n",
    "\n",
    "D = B + C \n",
    "print(D)"
   ]
  },
  {
   "attachments": {},
   "cell_type": "markdown",
   "metadata": {},
   "source": [
    "**Invertir palabras de una frase**\n",
    "\n",
    "Nos dan una frase en que quieren que las letras de cada palabra acaben teniendo el orden invertido, manteniendo el orden de las palabras.\n",
    "\n",
    "```python\n",
    "frase = 'Hola Ada'\n",
    "print(frase) # nos daría 'aloH adA'\n",
    "```"
   ]
  },
  {
   "cell_type": "code",
   "execution_count": 6,
   "metadata": {},
   "outputs": [
    {
     "name": "stdout",
     "output_type": "stream",
     "text": [
      "Hola Ada\n",
      "<class 'str'>\n",
      "['Hola', 'Ada']\n",
      "<class 'list'>\n",
      "2\n",
      "--------------\n",
      "Hola\n",
      "['H', 'o', 'l', 'a']\n",
      "['a', 'l', 'o', 'H']\n",
      "aloH\n",
      "<class 'str'>\n",
      "--------------\n",
      "Ada\n",
      "['A', 'd', 'a']\n",
      "['a', 'd', 'A']\n",
      "adA\n",
      "<class 'str'>\n",
      "['aloH', 'adA']\n",
      "aloH adA\n"
     ]
    }
   ],
   "source": [
    "frase = 'Hola Ada'\n",
    "print(frase) \n",
    "print(type(frase))\n",
    "pal_1 = frase.split()\n",
    "print(pal_1)\n",
    "print(type(pal_1))\n",
    "print(len(pal_1))\n",
    "\n",
    "lista_final = []\n",
    "\n",
    "for i in pal_1:\n",
    "    print(\"--------------\")\n",
    "    print(i)\n",
    "    list_pal = list(i) #genera una lista cuyos componentes van a ser cada caracter del string i.\n",
    "    print(list_pal)\n",
    "    list_pal.reverse()\n",
    "    print(list_pal)\n",
    "    pal = \"\".join(list_pal) #pal= cada uno de los strings que hemos dado la vuelta\n",
    "    print(pal)\n",
    "    print(type(pal))\n",
    "    lista_final.append(pal)\n",
    "\n",
    "print(lista_final)\n",
    "lista_final_2 = \" \".join(lista_final)\n",
    "print(lista_final_2)\n"
   ]
  },
  {
   "attachments": {},
   "cell_type": "markdown",
   "metadata": {},
   "source": [
    "###  ¿Es un DNI valido?\n",
    "\n",
    "Los DNI españoles pueden ser:\n",
    "\n",
    "- NIF (Numero de Identificación Fiscal) - 8 numeros y una letra, o\n",
    "- NIE (Numero de Identificación de Extranjeros) - 1 letra, 7 numeros y 1 letra."
   ]
  },
  {
   "cell_type": "code",
   "execution_count": 7,
   "metadata": {},
   "outputs": [],
   "source": [
    "lista_dni = [\"X-1234567-Z\", \"X-1234567\", \"12345678-M\", \"1234567-T\", \"12345677\"] "
   ]
  },
  {
   "cell_type": "code",
   "execution_count": 8,
   "metadata": {},
   "outputs": [
    {
     "name": "stdout",
     "output_type": "stream",
     "text": [
      "--------------\n",
      "['X', '1234567', 'Z']\n",
      "3\n",
      "<class 'int'>\n",
      "--------------\n",
      "['X', '1234567']\n",
      "2\n",
      "<class 'int'>\n",
      "--------------\n",
      "['12345678', 'M']\n",
      "2\n",
      "<class 'int'>\n",
      "--------------\n",
      "['1234567', 'T']\n",
      "2\n",
      "<class 'int'>\n",
      "--------------\n",
      "['12345677']\n",
      "1\n",
      "<class 'int'>\n",
      "{'X-1234567-Z': 'válido', 'X-1234567': 'no válido', '12345678-M': 'válido', '1234567-T': 'no válido', '12345677': 'no válido'}\n"
     ]
    }
   ],
   "source": [
    "dnis ={} # para almacenar todos los DNIs y  sacar el value que es erróneo.\n",
    "#como en la lista tengo strings compuestos por letras y números quiero que python lo compruebe. Para ello voy a utilizar «str.isnumeric() str.isalpha()»\n",
    "for dni in lista_dni:\n",
    "    print(\"--------------\")\n",
    "    dni_elementos = dni.split(\"-\")\n",
    "    print(dni_elementos)\n",
    "    num_elem = len(dni_elementos) \n",
    "    print(num_elem)\n",
    "    print(type(num_elem))\n",
    "    if num_elem == 2 and dni_elementos[0].isnumeric() and len(dni_elementos[0]) == 8 and dni_elementos[1].isalpha() and len(dni_elementos[1]) == 1:\n",
    "        dnis[dni] = \"válido\"\n",
    "    elif num_elem == 3 and dni_elementos[0].isalpha() and len(dni_elementos[0]) == 1 and dni_elementos[1].isnumeric() and len(dni_elementos[1]) == 7 and dni_elementos[2].isalpha() and len(dni_elementos[2]) == 1:\n",
    "        dnis[dni] = \"válido\"\n",
    "    else:\n",
    "        dnis[dni] = \"no válido\"\n",
    "print(dnis)"
   ]
  },
  {
   "attachments": {},
   "cell_type": "markdown",
   "metadata": {},
   "source": [
    "**BONUS: Encuentra los k números más cerca a X**\n",
    "\n",
    "\n",
    "Haz una programa que compare los contenidos de una lista a un número dado X. Queremos que nos devuelva los k números que son más parecidos al número dado.\n",
    "\n",
    "Ejemplo:\n",
    "```python\n",
    "L = [4, 19, -5, 100, 53, 43, 74, -83, 13.5, 26]\n",
    "# Dados los siguientes valores \n",
    "x =30\n",
    "k = 3 # el número de números que tendremos que buscar en la lista que se parecen a 30 \n",
    "# El output debería ser igual a [26, 19, 43]\n",
    "```"
   ]
  },
  {
   "cell_type": "code",
   "execution_count": null,
   "metadata": {},
   "outputs": [],
   "source": []
  }
 ],
 "metadata": {
  "kernelspec": {
   "display_name": "Python 3",
   "language": "python",
   "name": "python3"
  },
  "language_info": {
   "codemirror_mode": {
    "name": "ipython",
    "version": 3
   },
   "file_extension": ".py",
   "mimetype": "text/x-python",
   "name": "python",
   "nbconvert_exporter": "python",
   "pygments_lexer": "ipython3",
   "version": "3.10.11"
  },
  "orig_nbformat": 4,
  "vscode": {
   "interpreter": {
    "hash": "31f2aee4e71d21fbe5cf8b01ff0e069b9275f58929596ceb00d14d90e3e16cd6"
   }
  }
 },
 "nbformat": 4,
 "nbformat_minor": 2
}
